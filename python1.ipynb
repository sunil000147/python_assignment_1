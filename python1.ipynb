{
 "cells": [
  {
   "cell_type": "markdown",
   "id": "536d1a8e-8ec6-41ad-8137-54000994b5e6",
   "metadata": {},
   "source": [
    "Which keyword is used to create a function? Create a function to return a list of odd numbers in the\n",
    "range of 1 to 25."
   ]
  },
  {
   "cell_type": "markdown",
   "id": "de57d11c-6b16-44b7-837f-3b1d8e73606c",
   "metadata": {},
   "source": [
    "Ans.The key word  used to creat a function in python or most programming languages \"def\" "
   ]
  },
  {
   "cell_type": "code",
   "execution_count": 1,
   "id": "8cac80ba-5fa1-429a-b33d-1842c4c60ed3",
   "metadata": {},
   "outputs": [],
   "source": [
    "def odd_numbers ():\n",
    "    l = []\n",
    "    for i in range(1,26):\n",
    "        if i != 0 :\n",
    "            l.append(i)\n",
    "    return l\n"
   ]
  },
  {
   "cell_type": "markdown",
   "id": "90411fed-0635-4677-950b-11bc2f8049ac",
   "metadata": {},
   "source": [
    "Q2.Why *args and **kwargs is used in some functions? Create a function each for *args and **kwargs\n",
    "to demonstrate their use."
   ]
  },
  {
   "cell_type": "markdown",
   "id": "63095319-5b83-4eb6-ab47-e8e327067883",
   "metadata": {},
   "source": [
    "Ans.*args and **kwargs are special syntax in Python that allows a function to accept a variable number of arguments.\n",
    "\n",
    "*args is used to pass a variable-length list of positional arguments to a function. It allows you to pass any number of positional arguments to a function, and these arguments are collected into a tuple.\n",
    "\n",
    "**kwargs is used to pass a variable-length dictionary of keyword arguments to a function. It allows you to pass any number of keyword arguments to a function, and these arguments are collected into a dictionary."
   ]
  },
  {
   "cell_type": "code",
   "execution_count": 9,
   "id": "adf7b5e4-62d2-4eda-b63e-a2a6e9b2572a",
   "metadata": {},
   "outputs": [
    {
     "name": "stdout",
     "output_type": "stream",
     "text": [
      "10\n",
      "name: John\n",
      "age: 25\n",
      "location: New York\n"
     ]
    }
   ],
   "source": [
    "# function using *args\n",
    "def add(*args):\n",
    "    sum = 0\n",
    "    for arg in args:\n",
    "        sum += arg\n",
    "    return sum\n",
    "\n",
    "# function using **kwargs\n",
    "def print_details(**kwargs):\n",
    "    for key, value in kwargs.items():\n",
    "        print(f\"{key}: {value}\")\n",
    "\n",
    "# example usage\n",
    "print(add(1, 2, 3, 4)) # Output: 10\n",
    "\n",
    "print_details(name=\"John\", age=25, location=\"New York\")\n",
    "# Output:\n",
    "# name: John\n",
    "# age: 25\n",
    "# location: New York\n"
   ]
  },
  {
   "cell_type": "markdown",
   "id": "82d9739e-4d3f-406a-9104-0888458f2f52",
   "metadata": {},
   "source": [
    "Q3. What is an iterator in python? Name the method used to initialise the iterator object and the method\n",
    "used for iteration. Use these methods to print the first five elements of the given list [2, 4, 6, 8, 10, 12, 14,\n",
    "16, 18, 20]."
   ]
  },
  {
   "cell_type": "markdown",
   "id": "dc34bfef-2849-462c-acf8-f228169de14a",
   "metadata": {},
   "source": [
    "Ans. An iterator is an object in Python that represents a stream of data. It provides a way to iterate over a sequence of values, one at a time, without having to load the entire sequence into memory at once.\n",
    "\n",
    "The two methods used for working with iterators are:\n",
    "\n",
    "iter(): This method is used to initialize the iterator object. It takes an iterable (such as a list, tuple, or string) as an argument and returns an iterator object that can be used to traverse the iterable.\n",
    "next(): This method is used for iteration. It returns the next item in the iterator. When there are no more items in the iterator, it raises a StopIteration exception."
   ]
  },
  {
   "cell_type": "code",
   "execution_count": 45,
   "id": "2bd8c068-47d7-4d05-92c6-b92c7194ef57",
   "metadata": {},
   "outputs": [
    {
     "ename": "TypeError",
     "evalue": "'list_iterator' object is not callable",
     "output_type": "error",
     "traceback": [
      "\u001b[0;31m---------------------------------------------------------------------------\u001b[0m",
      "\u001b[0;31mTypeError\u001b[0m                                 Traceback (most recent call last)",
      "Cell \u001b[0;32mIn[45], line 4\u001b[0m\n\u001b[1;32m      1\u001b[0m my_list \u001b[38;5;241m=\u001b[39m [\u001b[38;5;241m2\u001b[39m, \u001b[38;5;241m4\u001b[39m, \u001b[38;5;241m6\u001b[39m, \u001b[38;5;241m8\u001b[39m, \u001b[38;5;241m10\u001b[39m, \u001b[38;5;241m12\u001b[39m, \u001b[38;5;241m14\u001b[39m, \u001b[38;5;241m16\u001b[39m, \u001b[38;5;241m18\u001b[39m, \u001b[38;5;241m20\u001b[39m]\n\u001b[1;32m      3\u001b[0m \u001b[38;5;66;03m# initialize the iterator object\u001b[39;00m\n\u001b[0;32m----> 4\u001b[0m my_iter \u001b[38;5;241m=\u001b[39m \u001b[38;5;28;43miter\u001b[39;49m\u001b[43m(\u001b[49m\u001b[43mmy_list\u001b[49m\u001b[43m)\u001b[49m\n\u001b[1;32m      6\u001b[0m \u001b[38;5;66;03m# iterate over the first five elements\u001b[39;00m\n\u001b[1;32m      7\u001b[0m \u001b[38;5;28;01mfor\u001b[39;00m i \u001b[38;5;129;01min\u001b[39;00m \u001b[38;5;28mrange\u001b[39m(\u001b[38;5;241m5\u001b[39m):\n",
      "\u001b[0;31mTypeError\u001b[0m: 'list_iterator' object is not callable"
     ]
    }
   ],
   "source": [
    "my_list = [2, 4, 6, 8, 10, 12, 14, 16, 18, 20]\n",
    "\n",
    "# initialize the iterator object\n",
    "my_iter = iter(my_list)\n",
    "\n",
    "# iterate over the first five elements\n",
    "for i in range(5):\n",
    "    print(next(my_iter))\n"
   ]
  },
  {
   "cell_type": "markdown",
   "id": "c7dc99fd-a397-4e52-ba24-cc08b9dcf671",
   "metadata": {},
   "source": [
    "Q4 What is a generator function in python? Why yield keyword is used? Give an example of a generator\n",
    "function."
   ]
  },
  {
   "cell_type": "markdown",
   "id": "bcf92033-f55f-41ca-956d-a9105b972edb",
   "metadata": {},
   "source": [
    "Ans. A generator function in Python is a special type of function that returns an iterator object\n",
    "The yield keyword is used to temporarily suspend execution and return a value from the generator function. It allows the generator function to return a sequence of values one at a time, without having to compute and store the entire sequence in memory at once."
   ]
  },
  {
   "cell_type": "code",
   "execution_count": 4,
   "id": "ad83269e-56df-4ac4-a673-dc63f9819d3b",
   "metadata": {},
   "outputs": [],
   "source": [
    "# code is here for example\n",
    "def fibonacci():\n",
    "    a, b = 0, 1\n",
    "    while True:\n",
    "        yield a\n",
    "        a, b = b, a + b\n"
   ]
  },
  {
   "cell_type": "markdown",
   "id": "143f58e8-f538-43a8-9a93-bf725456fc88",
   "metadata": {},
   "source": [
    "Q5. Create a generator function for prime numbers less than 1000. Use the next() method to print the\n",
    "first 20 prime numbers."
   ]
  },
  {
   "cell_type": "code",
   "execution_count": 3,
   "id": "f5f7fb5a-59fa-4c8c-9142-5fbb96c28784",
   "metadata": {},
   "outputs": [],
   "source": [
    "def primes():\n",
    "    n = 2\n",
    "    while True:\n",
    "        if all(n % i != 0 for i in range(2, int(n**0.5) + 1)):\n",
    "            yield n\n",
    "        n += 1\n",
    "        if n == 1000:\n",
    "            break\n"
   ]
  },
  {
   "cell_type": "markdown",
   "id": "1ec967f3-8220-46ca-99ad-78c62357765a",
   "metadata": {},
   "source": [
    "Q6. Write a python program to print the first 10 Fibonacci numbers using a while loop."
   ]
  },
  {
   "cell_type": "code",
   "execution_count": 5,
   "id": "4ae382da-98c2-410b-932d-47a86480b7cc",
   "metadata": {},
   "outputs": [
    {
     "name": "stdout",
     "output_type": "stream",
     "text": [
      "0\n",
      "1\n",
      "1\n",
      "2\n",
      "3\n",
      "5\n",
      "8\n",
      "13\n",
      "21\n",
      "34\n"
     ]
    }
   ],
   "source": [
    "a, b = 0, 1\n",
    "count = 0\n",
    "\n",
    "while count < 10:\n",
    "    print(a)\n",
    "    a, b = b, a + b\n",
    "    count += 1\n"
   ]
  },
  {
   "cell_type": "markdown",
   "id": "9a9abdc5-a3cf-44d0-923f-4e889fb047c5",
   "metadata": {},
   "source": [
    "Q7. Write a List Comprehension to iterate through the given string: ‘pwskills’.\n",
    "Expected output: ['p', 'w', 's', 'k', 'i', 'l', 'l', 's']"
   ]
  },
  {
   "cell_type": "code",
   "execution_count": 6,
   "id": "94a2bc11-88ed-45a1-aafb-c9680e389fe9",
   "metadata": {},
   "outputs": [
    {
     "name": "stdout",
     "output_type": "stream",
     "text": [
      "['p', 'w', 's', 'k', 'i', 'l', 'l', 's']\n"
     ]
    }
   ],
   "source": [
    "string = 'pwskills'\n",
    "result = [char for char in string if char in {'p', 'w', 's', 'k', 'i', 'l'}]\n",
    "print(result)\n"
   ]
  },
  {
   "cell_type": "markdown",
   "id": "7212466c-97e7-4a47-a121-aa92428cbcda",
   "metadata": {},
   "source": [
    "Q8. Write a python program to check whether a given number is Palindrome or not using a while loop."
   ]
  },
  {
   "cell_type": "code",
   "execution_count": 7,
   "id": "e5c14d69-4f91-46ea-8533-6d17e22a3cb6",
   "metadata": {},
   "outputs": [
    {
     "name": "stdin",
     "output_type": "stream",
     "text": [
      "Enter a number:  230\n"
     ]
    },
    {
     "name": "stdout",
     "output_type": "stream",
     "text": [
      "230 is not a palindrome.\n"
     ]
    }
   ],
   "source": [
    "number = int(input(\"Enter a number: \"))\n",
    "temp = number\n",
    "reverse = 0\n",
    "\n",
    "while temp > 0:\n",
    "    digit = temp % 10\n",
    "    reverse = (reverse * 10) + digit\n",
    "    temp //= 10\n",
    "\n",
    "if number == reverse:\n",
    "    print(f\"{number} is a palindrome.\")\n",
    "else:\n",
    "    print(f\"{number} is not a palindrome.\")\n"
   ]
  },
  {
   "cell_type": "markdown",
   "id": "a4a22c10-35bf-4b76-93f5-7c519b0c43dc",
   "metadata": {},
   "source": [
    "Q9. Write a code to print odd numbers from 1 to 100 using list comprehension."
   ]
  },
  {
   "cell_type": "code",
   "execution_count": null,
   "id": "5645634a-7a15-474a-bf74-616a700c8a4d",
   "metadata": {},
   "outputs": [],
   "source": []
  }
 ],
 "metadata": {
  "kernelspec": {
   "display_name": "Python 3 (ipykernel)",
   "language": "python",
   "name": "python3"
  },
  "language_info": {
   "codemirror_mode": {
    "name": "ipython",
    "version": 3
   },
   "file_extension": ".py",
   "mimetype": "text/x-python",
   "name": "python",
   "nbconvert_exporter": "python",
   "pygments_lexer": "ipython3",
   "version": "3.10.8"
  }
 },
 "nbformat": 4,
 "nbformat_minor": 5
}
